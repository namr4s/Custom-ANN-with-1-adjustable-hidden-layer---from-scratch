{
 "cells": [
  {
   "cell_type": "code",
   "execution_count": 128,
   "id": "76dc7916",
   "metadata": {},
   "outputs": [],
   "source": [
    "import numpy as np\n",
    "import pandas as pd\n",
    "from sklearn.model_selection import train_test_split\n",
    "from sklearn.preprocessing import MinMaxScaler"
   ]
  },
  {
   "cell_type": "code",
   "execution_count": 129,
   "id": "2b0c08f5",
   "metadata": {},
   "outputs": [
    {
     "data": {
      "text/html": [
       "<div>\n",
       "<style scoped>\n",
       "    .dataframe tbody tr th:only-of-type {\n",
       "        vertical-align: middle;\n",
       "    }\n",
       "\n",
       "    .dataframe tbody tr th {\n",
       "        vertical-align: top;\n",
       "    }\n",
       "\n",
       "    .dataframe thead th {\n",
       "        text-align: right;\n",
       "    }\n",
       "</style>\n",
       "<table border=\"1\" class=\"dataframe\">\n",
       "  <thead>\n",
       "    <tr style=\"text-align: right;\">\n",
       "      <th></th>\n",
       "      <th>age</th>\n",
       "      <th>affordibility</th>\n",
       "      <th>bought_insurance</th>\n",
       "    </tr>\n",
       "  </thead>\n",
       "  <tbody>\n",
       "    <tr>\n",
       "      <th>0</th>\n",
       "      <td>22</td>\n",
       "      <td>1</td>\n",
       "      <td>0</td>\n",
       "    </tr>\n",
       "    <tr>\n",
       "      <th>1</th>\n",
       "      <td>25</td>\n",
       "      <td>0</td>\n",
       "      <td>0</td>\n",
       "    </tr>\n",
       "    <tr>\n",
       "      <th>2</th>\n",
       "      <td>47</td>\n",
       "      <td>1</td>\n",
       "      <td>1</td>\n",
       "    </tr>\n",
       "    <tr>\n",
       "      <th>3</th>\n",
       "      <td>52</td>\n",
       "      <td>0</td>\n",
       "      <td>0</td>\n",
       "    </tr>\n",
       "    <tr>\n",
       "      <th>4</th>\n",
       "      <td>46</td>\n",
       "      <td>1</td>\n",
       "      <td>1</td>\n",
       "    </tr>\n",
       "  </tbody>\n",
       "</table>\n",
       "</div>"
      ],
      "text/plain": [
       "   age  affordibility  bought_insurance\n",
       "0   22              1                 0\n",
       "1   25              0                 0\n",
       "2   47              1                 1\n",
       "3   52              0                 0\n",
       "4   46              1                 1"
      ]
     },
     "execution_count": 129,
     "metadata": {},
     "output_type": "execute_result"
    }
   ],
   "source": [
    "df = pd.read_csv(\"insuranceData.csv\")\n",
    "df.head()"
   ]
  },
  {
   "cell_type": "code",
   "execution_count": 130,
   "id": "ba2e756c",
   "metadata": {},
   "outputs": [],
   "source": [
    "# Creating training and testing dataset\n",
    "\n",
    "y = df.iloc[:,-1]\n",
    "X = df.iloc[:,:-1]\n",
    "X_train, X_test, y_train, y_test = train_test_split(X, y, test_size=0.2)"
   ]
  },
  {
   "cell_type": "code",
   "execution_count": 131,
   "id": "9abea36d",
   "metadata": {},
   "outputs": [],
   "source": [
    "# Scaling features\n",
    "\n",
    "scaler = MinMaxScaler()\n",
    "xTrainScaled = scaler.fit_transform(X_train)\n",
    "xTestScaled = scaler.transform(X_test)"
   ]
  },
  {
   "cell_type": "code",
   "execution_count": 132,
   "id": "36598562",
   "metadata": {},
   "outputs": [
    {
     "data": {
      "text/plain": [
       "array([[0.09090909, 1.        ],\n",
       "       [0.90909091, 1.        ],\n",
       "       [0.70454545, 1.        ],\n",
       "       [0.84090909, 0.        ],\n",
       "       [0.06818182, 1.        ]])"
      ]
     },
     "execution_count": 132,
     "metadata": {},
     "output_type": "execute_result"
    }
   ],
   "source": [
    "xTrainScaled[0:5]"
   ]
  },
  {
   "cell_type": "code",
   "execution_count": 133,
   "id": "7bfe53e3",
   "metadata": {},
   "outputs": [],
   "source": [
    "ytrain = y_train.to_numpy()\n",
    "ytrain = ytrain.reshape((-1,1))"
   ]
  },
  {
   "cell_type": "markdown",
   "id": "ddf05775",
   "metadata": {},
   "source": [
    " ## Neural network with 1 hidden layer and adjustable number of nerons\n",
    " ### Activation functions: Sigmoid for output layer and ReLU for "
   ]
  },
  {
   "cell_type": "code",
   "execution_count": 134,
   "id": "0ef43a4c",
   "metadata": {},
   "outputs": [],
   "source": [
    "# define the ReLU function\n",
    "def relu(x,derivative=False):\n",
    "    if (derivative):\n",
    "        return np.where(x > 0, 1, 0)\n",
    "    else:\n",
    "        return np.maximum(x,0)\n",
    "    \n",
    "    \n",
    "    \n",
    "    \n",
    "# define the sigmoid function \n",
    "def sigmoid(x):\n",
    "    return(1/(1+(np.exp(-x))))\n",
    "\n",
    "\n",
    "\n",
    "# define the loss function\n",
    "def log_loss(y_true,y_predicted):\n",
    "    epsilon = 1e-15\n",
    "    y_predicted_new = [max(i,epsilon) for i in y_predicted]\n",
    "    y_predicted_new = [min(i,1-epsilon) for i in y_predicted]\n",
    "    y_predicted_new = np.array(y_predicted_new)\n",
    "    return -np.mean(y_true*np.log(y_predicted_new) + (1-y_true)*(np.log(1-y_predicted_new)))\n"
   ]
  },
  {
   "cell_type": "code",
   "execution_count": 135,
   "id": "706d4bf6",
   "metadata": {},
   "outputs": [],
   "source": [
    "class annModel:\n",
    "    def __init__(self):\n",
    "        self.hiddenWeights = None\n",
    "        self.outputWeights = None\n",
    "    \n",
    "    def fit(self,X,y,epochs,numHidden):\n",
    "        self.hiddenWeights, self.outputWeights = self.gradientDescent(X,y,epochs,numHidden)\n",
    "    \n",
    "    def predict(self,xtest):\n",
    "        inputLayer_outputs = np.hstack((xtest, np.ones((xtest.shape[0], 1))))\n",
    "        hiddenLayer_outputs = np.hstack((relu(np.dot(inputLayer_outputs, self.hiddenWeights)), np.ones((xtest.shape[0], 1))))\n",
    "        predictions = sigmoid(np.dot(hiddenLayer_outputs, self.outputWeights))\n",
    "        return predictions\n",
    "        \n",
    "    \n",
    "    def gradientDescent(self,X,y,epochs,numHidden):\n",
    "        \n",
    "        # learning rate\n",
    "        alpha = 0.01\n",
    "        \n",
    "        \n",
    "        # initializing weights\n",
    "        # the +1 in the 1st dimension of the weight matrices is for the bias weight\n",
    "        hiddenWeights = np.random.random((X.shape[1] + 1, numHidden))\n",
    "        outputWeights = np.random.random((numHidden + 1, 1))\n",
    "        \n",
    "        for i in range (epochs):\n",
    "            \n",
    "            # Forward Propagation\n",
    "            # we stack a column of ones along with input X to take care of biases\n",
    "            inputLayer_outputs = np.hstack((X, np.ones((X.shape[0], 1))))\n",
    "            hiddenLayer_outputs = np.hstack((relu(np.dot(inputLayer_outputs, hiddenWeights)), np.ones((X.shape[0], 1))))\n",
    "            outputLayer_outputs = sigmoid(np.dot(hiddenLayer_outputs, outputWeights))\n",
    "            loss = log_loss(y,outputLayer_outputs)\n",
    "            \n",
    "            # Error terms for output layer = loss' x sigmoid'(a) \n",
    "            outputError = (outputLayer_outputs - y)  \n",
    "            hiddenError = relu(hiddenLayer_outputs,derivative=True)[:,:-1]*(np.dot(outputError,outputWeights.T[:,:-1]))\n",
    "            \n",
    "            \n",
    "            # partial derivatives\n",
    "            hidden_pd = inputLayer_outputs[:, :, np.newaxis] * hiddenError[: , np.newaxis, :]\n",
    "            output_pd = hiddenLayer_outputs[:, :, np.newaxis] * outputError[:, np.newaxis, :]\n",
    "\n",
    "            # average for total gradients\n",
    "            total_hidden_gradient = np.average(hidden_pd, axis=0)\n",
    "            total_output_gradient = np.average(output_pd, axis=0)\n",
    "\n",
    "            # update weights\n",
    "            hiddenWeights += - alpha * total_hidden_gradient\n",
    "            outputWeights += - alpha * total_output_gradient\n",
    "            \n",
    "            if i%100 == 0:\n",
    "                print(f'Epoch: {i}  Loss: {loss}')\n",
    "            \n",
    "            if (i==epochs-1):\n",
    "                print(f'Epoch: {i}  Loss: {loss}')\n",
    "                return hiddenWeights, outputWeights\n",
    "        \n",
    "    "
   ]
  },
  {
   "cell_type": "code",
   "execution_count": 136,
   "id": "55e6d943",
   "metadata": {},
   "outputs": [
    {
     "name": "stdout",
     "output_type": "stream",
     "text": [
      "Epoch: 0  Loss: 2.0175934813828618\n",
      "Epoch: 100  Loss: 0.6529351343874926\n",
      "Epoch: 200  Loss: 0.6158858930263048\n",
      "Epoch: 300  Loss: 0.5870281655458224\n",
      "Epoch: 400  Loss: 0.5603386119990362\n",
      "Epoch: 500  Loss: 0.5355579050153412\n",
      "Epoch: 600  Loss: 0.5126352046567336\n",
      "Epoch: 700  Loss: 0.49165152680301644\n",
      "Epoch: 800  Loss: 0.4726740592538317\n",
      "Epoch: 900  Loss: 0.455706404817764\n",
      "Epoch: 1000  Loss: 0.4406801645631713\n",
      "Epoch: 1100  Loss: 0.4274784187495327\n",
      "Epoch: 1200  Loss: 0.41594714896607327\n",
      "Epoch: 1300  Loss: 0.4059097749804055\n",
      "Epoch: 1400  Loss: 0.3971813826003627\n",
      "Epoch: 1500  Loss: 0.38958029315414744\n",
      "Epoch: 1600  Loss: 0.38293617634954624\n",
      "Epoch: 1700  Loss: 0.37709487822994203\n",
      "Epoch: 1800  Loss: 0.37192060011821243\n",
      "Epoch: 1900  Loss: 0.36729618304585904\n",
      "Epoch: 1999  Loss: 0.3631619778841662\n"
     ]
    }
   ],
   "source": [
    "model = annModel()\n",
    "model.fit(xTrainScaled,ytrain,2000,10)"
   ]
  },
  {
   "cell_type": "code",
   "execution_count": 137,
   "id": "5dfaa8e7",
   "metadata": {},
   "outputs": [
    {
     "data": {
      "text/plain": [
       "array([[0.50356293],\n",
       "       [0.86465945],\n",
       "       [0.85305959],\n",
       "       [0.68571586],\n",
       "       [0.57998547],\n",
       "       [0.21334935]])"
      ]
     },
     "execution_count": 137,
     "metadata": {},
     "output_type": "execute_result"
    }
   ],
   "source": [
    "model.predict(xTestScaled)"
   ]
  },
  {
   "cell_type": "code",
   "execution_count": 138,
   "id": "cf4079b1",
   "metadata": {},
   "outputs": [
    {
     "data": {
      "text/plain": [
       "3     0\n",
       "5     1\n",
       "15    1\n",
       "7     1\n",
       "22    1\n",
       "26    0\n",
       "Name: bought_insurance, dtype: int64"
      ]
     },
     "execution_count": 138,
     "metadata": {},
     "output_type": "execute_result"
    }
   ],
   "source": [
    "y_test"
   ]
  },
  {
   "cell_type": "code",
   "execution_count": null,
   "id": "09b698f1",
   "metadata": {},
   "outputs": [],
   "source": []
  }
 ],
 "metadata": {
  "kernelspec": {
   "display_name": "Python 3",
   "language": "python",
   "name": "python3"
  },
  "language_info": {
   "codemirror_mode": {
    "name": "ipython",
    "version": 3
   },
   "file_extension": ".py",
   "mimetype": "text/x-python",
   "name": "python",
   "nbconvert_exporter": "python",
   "pygments_lexer": "ipython3",
   "version": "3.8.8"
  }
 },
 "nbformat": 4,
 "nbformat_minor": 5
}
